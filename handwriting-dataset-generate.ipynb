{
 "cells": [
  {
   "cell_type": "code",
   "execution_count": 4,
   "metadata": {},
   "outputs": [
    {
     "name": "stdout",
     "output_type": "stream",
     "text": [
      "extract_features\n",
      "load feature\n",
      "Loaded VGG16 features:  (70, 512)\n",
      "sort images\n",
      "[0 1 2 3 4]\n",
      "(56,)\n",
      "(14,)\n",
      "data/handwriting/000_056_crop.jpg\n"
     ]
    }
   ],
   "source": [
    "import os\n",
    "import sys\n",
    "import random\n",
    "import math\n",
    "import re\n",
    "import time\n",
    "import numpy as np\n",
    "import cv2\n",
    "import matplotlib\n",
    "import matplotlib.pyplot as plt\n",
    "\n",
    "from config import Config\n",
    "import utils\n",
    "import model as modellib\n",
    "import visualize\n",
    "from model import log\n",
    "\n",
    "os.environ[\"CUDA_VISIBLE_DEVICES\"]=\"1\"\n",
    "\n",
    "%matplotlib inline \n",
    "\n",
    "# Root directory of the project\n",
    "ROOT_DIR = os.getcwd()\n",
    "import handwriting_split_data as data_load\n",
    "\n",
    "IMAGE_PATH = os.path.join(ROOT_DIR, \"data/hand/images\")\n",
    "MASK_PATH = os.path.join(ROOT_DIR, \"data/hand/masks\")\n",
    "\n",
    "images = data_load.label_images(n_splits=5)\n",
    "index_train_cv = np.where(images != 0)\n",
    "index_valid_cv = np.where(images == 0 )\n",
    "files = data_load._img_json_files()\n",
    "\n",
    "X_train_cv = np.array([x for x in files if files.index(x) in index_train_cv[0]])\n",
    "X_valid = np.array([x for x in files if files.index(x) in index_valid_cv[0]])\n",
    "\n",
    "print(X_train_cv.shape)\n",
    "print(X_valid.shape)\n",
    "\n",
    "print(X_train_cv[0])"
   ]
  },
  {
   "cell_type": "code",
   "execution_count": 63,
   "metadata": {
    "collapsed": true
   },
   "outputs": [],
   "source": [
    "import pandas as pd # data processing, CSV file I/O (e.g. pd.read_csv)\n",
    "def load_mask(json_name, json_base_path='', height=64, width=128):\n",
    "    # print(json_name)\n",
    "    instance_masks = []\n",
    "    class_ids = []\n",
    "\n",
    "    img = np.zeros([height, width], dtype=np.uint8)\n",
    "    # img = cv2.cvtColor(img, cv2.COLOR_BGR2GRAY)\n",
    "    df = pd.read_json(os.path.join(json_base_path, json_name), typ='series')\n",
    "\n",
    "    # print(df)\n",
    "    for idx, shape in enumerate(df.shapes):\n",
    "        class_id = shape['label']\n",
    "        box = shape['points']\n",
    "        m = utils.draw_polygon(img.copy(), box, 1)\n",
    "        resized = cv2.resize(m, (128, 64))\n",
    "        instance_masks.append(resized)\n",
    "        class_ids.append(class_id)\n",
    "\n",
    "    if class_ids:\n",
    "        masks = np.stack(instance_masks, axis=0)\n",
    "        class_ids = np.array(class_ids, dtype=np.int32)\n",
    "#         print(\"masks\", masks.shape)\n",
    "#         print(\"class_ids\", class_ids.shape)\n",
    "        return masks, class_ids"
   ]
  },
  {
   "cell_type": "code",
   "execution_count": 59,
   "metadata": {
    "collapsed": true
   },
   "outputs": [],
   "source": [
    "def resize_img(path):\n",
    "    img = cv2.imread(path)\n",
    "    img = cv2.cvtColor(img, cv2.COLOR_BGR2RGB)\n",
    "    resized = cv2.resize(img, (128, 64))\n",
    "    # resized = cv2.resize(img, (144 * 2, 256 * 2))\n",
    "    return resized, img.shape\n"
   ]
  },
  {
   "cell_type": "code",
   "execution_count": 81,
   "metadata": {
    "scrolled": false
   },
   "outputs": [],
   "source": [
    "N = 5\n",
    "width = 64\n",
    "height = 128\n",
    "channels = 3\n",
    "\n",
    "def dataset_gen(X_train_cv):\n",
    "    length = X_train_cv.shape[0]\n",
    "    images = np.ndarray([length,width,height,channels], dtype='float32')\n",
    "    masks  = np.ndarray([length,N,width,height], dtype='float32')\n",
    "    labels = np.ones([length, N], dtype=int) * 10 # init to 10 cause it would be no digit\n",
    "\n",
    "    # import shutil\n",
    "    for idx, p in enumerate(X_train_cv):\n",
    "    #     print(p)\n",
    "        img, img_shape = resize_img(p)\n",
    "    #     print(\"img_shape\", img_shape)\n",
    "        images[idx] = img\n",
    "    #     images.append(img)\n",
    "        base_name = os.path.splitext(os.path.basename(p))[0]\n",
    "        json_name = \"%s.json\" % base_name\n",
    "        msks, class_ids = load_mask(json_name, json_base_path='data/handwriting/', height=img_shape[0], width=img_shape[1])\n",
    "    #     print(\"msks\", msks.shape)\n",
    "        for i in range(msks.shape[0]):\n",
    "            masks[idx, i] = msks[i]\n",
    "\n",
    "        for i in range(class_ids.shape[0]):\n",
    "            labels[idx, i] = class_ids[i]\n",
    "    #     masks.append(ms)\n",
    "    #     labels.append(class_ids)\n",
    "    return images, masks, labels"
   ]
  },
  {
   "cell_type": "code",
   "execution_count": 82,
   "metadata": {},
   "outputs": [
    {
     "name": "stdout",
     "output_type": "stream",
     "text": [
      "(56, 64, 128, 3)\n",
      "(56, 5, 64, 128)\n",
      "(56, 5)\n",
      "[ 1  8 10 10 10]\n"
     ]
    }
   ],
   "source": [
    "images, masks, labels = dataset_gen(X_train_cv)\n",
    "\n",
    "print(np.array(images).shape)\n",
    "print(np.array(masks).shape)\n",
    "print(np.array(labels).shape)\n",
    "print(labels[1])"
   ]
  },
  {
   "cell_type": "code",
   "execution_count": 84,
   "metadata": {},
   "outputs": [
    {
     "name": "stdout",
     "output_type": "stream",
     "text": [
      "(14, 64, 128, 3)\n",
      "(14, 5, 64, 128)\n",
      "(14, 5)\n",
      "[ 7 10 10 10 10]\n"
     ]
    }
   ],
   "source": [
    "images1, masks1, labels1 = dataset_gen(X_valid)\n",
    "\n",
    "print(np.array(images1).shape)\n",
    "print(np.array(masks1).shape)\n",
    "print(np.array(labels1).shape)\n",
    "print(labels1[1])"
   ]
  },
  {
   "cell_type": "code",
   "execution_count": 86,
   "metadata": {},
   "outputs": [
    {
     "name": "stdout",
     "output_type": "stream",
     "text": [
      "sample (64, 128, 3)\n"
     ]
    },
    {
     "data": {
      "image/png": "[encoded data removed]",
      "text/plain": [
       "<matplotlib.figure.Figure at 0x7ffb01c9f2e8>"
      ]
     },
     "metadata": {},
     "output_type": "display_data"
    },
    {
     "name": "stdout",
     "output_type": "stream",
     "text": [
      "(5, 64, 128)\n"
     ]
    },
    {
     "data": {
      "image/png": "[encoded data removed]",
      "text/plain": [
       "<matplotlib.figure.Figure at 0x7ffb01dbdd68>"
      ]
     },
     "metadata": {},
     "output_type": "display_data"
    },
    {
     "data": {
      "image/png": "[encoded data removed]",
      "text/plain": [
       "<matplotlib.figure.Figure at 0x7ffb01ba1940>"
      ]
     },
     "metadata": {},
     "output_type": "display_data"
    },
    {
     "name": "stdout",
     "output_type": "stream",
     "text": [
      "[ 1  0 10 10 10]\n"
     ]
    }
   ],
   "source": [
    "rd = 9\n",
    "sample = images1[rd,:,:,:].copy()\n",
    "print(\"sample\", sample.shape)\n",
    "# print(np.unique(sample))\n",
    "# sample = sample.reshape(sample.shape[0], sample.shape[1], 3).astype(np.float32)\n",
    "sample /= 255\n",
    "plt.imshow(sample)\n",
    "plt.show()\n",
    "\n",
    "print(masks1[rd].shape)\n",
    "plt.imshow(masks1[rd][0])\n",
    "plt.show()\n",
    "plt.imshow(masks1[rd][1])\n",
    "plt.show()\n",
    "print(labels1[rd])"
   ]
  },
  {
   "cell_type": "code",
   "execution_count": null,
   "metadata": {
    "collapsed": true
   },
   "outputs": [],
   "source": []
  }
 ],
 "metadata": {
  "kernelspec": {
   "display_name": "Python 3",
   "language": "python",
   "name": "python3"
  },
  "language_info": {
   "codemirror_mode": {
    "name": "ipython",
    "version": 3
   },
   "file_extension": ".py",
   "mimetype": "text/x-python",
   "name": "python",
   "nbconvert_exporter": "python",
   "pygments_lexer": "ipython3",
   "version": "3.6.3"
  }
 },
 "nbformat": 4,
 "nbformat_minor": 2
}
